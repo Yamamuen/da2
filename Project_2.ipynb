{
 "cells": [
  {
   "cell_type": "markdown",
   "source": [
    "# Udacity's Data Analyst Nanodegree\r\n",
    "## Project 2 - The Data Analysis Process\r\n",
    "\r\n",
    "In this project we will analyze the NICS database and US Census Data."
   ],
   "metadata": {}
  },
  {
   "cell_type": "markdown",
   "source": [
    "***\r\n",
    "Importing necessary libraries:"
   ],
   "metadata": {}
  },
  {
   "cell_type": "code",
   "execution_count": null,
   "source": [
    "import numpy as np\r\n",
    "import pandas as pd\r\n",
    "import matplotlib.pyplot as plt\r\n",
    "import seaborn as sns"
   ],
   "outputs": [],
   "metadata": {}
  },
  {
   "cell_type": "code",
   "execution_count": null,
   "source": [],
   "outputs": [],
   "metadata": {}
  }
 ],
 "metadata": {
  "orig_nbformat": 4,
  "language_info": {
   "name": "python"
  }
 },
 "nbformat": 4,
 "nbformat_minor": 2
}